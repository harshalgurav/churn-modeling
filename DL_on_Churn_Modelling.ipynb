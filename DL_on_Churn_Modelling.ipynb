{
  "cells": [
    {
      "cell_type": "markdown",
      "metadata": {
        "id": "view-in-github",
        "colab_type": "text"
      },
      "source": [
        "<a href=\"https://colab.research.google.com/github/harshalgurav/deep-learning-on-churn_modeling/blob/main/DL_on_Churn_Modelling.ipynb\" target=\"_parent\"><img src=\"https://colab.research.google.com/assets/colab-badge.svg\" alt=\"Open In Colab\"/></a>"
      ]
    },
    {
      "cell_type": "code",
      "execution_count": null,
      "metadata": {
        "id": "DMSY-Kp10VAl"
      },
      "outputs": [],
      "source": [
        "import numpy as np\n",
        "import pandas as pd\n",
        "import matplotlib.pyplot as plt\n",
        "import seaborn as sns\n",
        "import warnings\n",
        "warnings.filterwarnings('ignore')"
      ]
    },
    {
      "cell_type": "code",
      "execution_count": null,
      "metadata": {
        "id": "ChQ54ucA0XJd"
      },
      "outputs": [],
      "source": [
        "#to load dataset\n",
        "df=pd.read_csv('/content/drive/MyDrive/Deep Learning Notebook/Churn_Modelling.csv')"
      ]
    },
    {
      "cell_type": "code",
      "execution_count": null,
      "metadata": {
        "colab": {
          "base_uri": "https://localhost:8080/",
          "height": 206
        },
        "id": "xs_waXHX0qXI",
        "outputId": "0ffd137e-36bc-433a-9a1a-16b85cfa82a3"
      },
      "outputs": [
        {
          "data": {
            "text/html": [
              "\n",
              "  <div id=\"df-405e8592-5cb3-48e9-81e0-048ea9ba536b\">\n",
              "    <div class=\"colab-df-container\">\n",
              "      <div>\n",
              "<style scoped>\n",
              "    .dataframe tbody tr th:only-of-type {\n",
              "        vertical-align: middle;\n",
              "    }\n",
              "\n",
              "    .dataframe tbody tr th {\n",
              "        vertical-align: top;\n",
              "    }\n",
              "\n",
              "    .dataframe thead th {\n",
              "        text-align: right;\n",
              "    }\n",
              "</style>\n",
              "<table border=\"1\" class=\"dataframe\">\n",
              "  <thead>\n",
              "    <tr style=\"text-align: right;\">\n",
              "      <th></th>\n",
              "      <th>RowNumber</th>\n",
              "      <th>CustomerId</th>\n",
              "      <th>Surname</th>\n",
              "      <th>CreditScore</th>\n",
              "      <th>Geography</th>\n",
              "      <th>Gender</th>\n",
              "      <th>Age</th>\n",
              "      <th>Tenure</th>\n",
              "      <th>Balance</th>\n",
              "      <th>NumOfProducts</th>\n",
              "      <th>HasCrCard</th>\n",
              "      <th>IsActiveMember</th>\n",
              "      <th>EstimatedSalary</th>\n",
              "      <th>Exited</th>\n",
              "    </tr>\n",
              "  </thead>\n",
              "  <tbody>\n",
              "    <tr>\n",
              "      <th>0</th>\n",
              "      <td>1</td>\n",
              "      <td>15634602</td>\n",
              "      <td>Hargrave</td>\n",
              "      <td>619</td>\n",
              "      <td>France</td>\n",
              "      <td>Female</td>\n",
              "      <td>42</td>\n",
              "      <td>2</td>\n",
              "      <td>0.00</td>\n",
              "      <td>1</td>\n",
              "      <td>1</td>\n",
              "      <td>1</td>\n",
              "      <td>101348.88</td>\n",
              "      <td>1</td>\n",
              "    </tr>\n",
              "    <tr>\n",
              "      <th>1</th>\n",
              "      <td>2</td>\n",
              "      <td>15647311</td>\n",
              "      <td>Hill</td>\n",
              "      <td>608</td>\n",
              "      <td>Spain</td>\n",
              "      <td>Female</td>\n",
              "      <td>41</td>\n",
              "      <td>1</td>\n",
              "      <td>83807.86</td>\n",
              "      <td>1</td>\n",
              "      <td>0</td>\n",
              "      <td>1</td>\n",
              "      <td>112542.58</td>\n",
              "      <td>0</td>\n",
              "    </tr>\n",
              "    <tr>\n",
              "      <th>2</th>\n",
              "      <td>3</td>\n",
              "      <td>15619304</td>\n",
              "      <td>Onio</td>\n",
              "      <td>502</td>\n",
              "      <td>France</td>\n",
              "      <td>Female</td>\n",
              "      <td>42</td>\n",
              "      <td>8</td>\n",
              "      <td>159660.80</td>\n",
              "      <td>3</td>\n",
              "      <td>1</td>\n",
              "      <td>0</td>\n",
              "      <td>113931.57</td>\n",
              "      <td>1</td>\n",
              "    </tr>\n",
              "    <tr>\n",
              "      <th>3</th>\n",
              "      <td>4</td>\n",
              "      <td>15701354</td>\n",
              "      <td>Boni</td>\n",
              "      <td>699</td>\n",
              "      <td>France</td>\n",
              "      <td>Female</td>\n",
              "      <td>39</td>\n",
              "      <td>1</td>\n",
              "      <td>0.00</td>\n",
              "      <td>2</td>\n",
              "      <td>0</td>\n",
              "      <td>0</td>\n",
              "      <td>93826.63</td>\n",
              "      <td>0</td>\n",
              "    </tr>\n",
              "    <tr>\n",
              "      <th>4</th>\n",
              "      <td>5</td>\n",
              "      <td>15737888</td>\n",
              "      <td>Mitchell</td>\n",
              "      <td>850</td>\n",
              "      <td>Spain</td>\n",
              "      <td>Female</td>\n",
              "      <td>43</td>\n",
              "      <td>2</td>\n",
              "      <td>125510.82</td>\n",
              "      <td>1</td>\n",
              "      <td>1</td>\n",
              "      <td>1</td>\n",
              "      <td>79084.10</td>\n",
              "      <td>0</td>\n",
              "    </tr>\n",
              "  </tbody>\n",
              "</table>\n",
              "</div>\n",
              "      <button class=\"colab-df-convert\" onclick=\"convertToInteractive('df-405e8592-5cb3-48e9-81e0-048ea9ba536b')\"\n",
              "              title=\"Convert this dataframe to an interactive table.\"\n",
              "              style=\"display:none;\">\n",
              "        \n",
              "  <svg xmlns=\"http://www.w3.org/2000/svg\" height=\"24px\"viewBox=\"0 0 24 24\"\n",
              "       width=\"24px\">\n",
              "    <path d=\"M0 0h24v24H0V0z\" fill=\"none\"/>\n",
              "    <path d=\"M18.56 5.44l.94 2.06.94-2.06 2.06-.94-2.06-.94-.94-2.06-.94 2.06-2.06.94zm-11 1L8.5 8.5l.94-2.06 2.06-.94-2.06-.94L8.5 2.5l-.94 2.06-2.06.94zm10 10l.94 2.06.94-2.06 2.06-.94-2.06-.94-.94-2.06-.94 2.06-2.06.94z\"/><path d=\"M17.41 7.96l-1.37-1.37c-.4-.4-.92-.59-1.43-.59-.52 0-1.04.2-1.43.59L10.3 9.45l-7.72 7.72c-.78.78-.78 2.05 0 2.83L4 21.41c.39.39.9.59 1.41.59.51 0 1.02-.2 1.41-.59l7.78-7.78 2.81-2.81c.8-.78.8-2.07 0-2.86zM5.41 20L4 18.59l7.72-7.72 1.47 1.35L5.41 20z\"/>\n",
              "  </svg>\n",
              "      </button>\n",
              "      \n",
              "  <style>\n",
              "    .colab-df-container {\n",
              "      display:flex;\n",
              "      flex-wrap:wrap;\n",
              "      gap: 12px;\n",
              "    }\n",
              "\n",
              "    .colab-df-convert {\n",
              "      background-color: #E8F0FE;\n",
              "      border: none;\n",
              "      border-radius: 50%;\n",
              "      cursor: pointer;\n",
              "      display: none;\n",
              "      fill: #1967D2;\n",
              "      height: 32px;\n",
              "      padding: 0 0 0 0;\n",
              "      width: 32px;\n",
              "    }\n",
              "\n",
              "    .colab-df-convert:hover {\n",
              "      background-color: #E2EBFA;\n",
              "      box-shadow: 0px 1px 2px rgba(60, 64, 67, 0.3), 0px 1px 3px 1px rgba(60, 64, 67, 0.15);\n",
              "      fill: #174EA6;\n",
              "    }\n",
              "\n",
              "    [theme=dark] .colab-df-convert {\n",
              "      background-color: #3B4455;\n",
              "      fill: #D2E3FC;\n",
              "    }\n",
              "\n",
              "    [theme=dark] .colab-df-convert:hover {\n",
              "      background-color: #434B5C;\n",
              "      box-shadow: 0px 1px 3px 1px rgba(0, 0, 0, 0.15);\n",
              "      filter: drop-shadow(0px 1px 2px rgba(0, 0, 0, 0.3));\n",
              "      fill: #FFFFFF;\n",
              "    }\n",
              "  </style>\n",
              "\n",
              "      <script>\n",
              "        const buttonEl =\n",
              "          document.querySelector('#df-405e8592-5cb3-48e9-81e0-048ea9ba536b button.colab-df-convert');\n",
              "        buttonEl.style.display =\n",
              "          google.colab.kernel.accessAllowed ? 'block' : 'none';\n",
              "\n",
              "        async function convertToInteractive(key) {\n",
              "          const element = document.querySelector('#df-405e8592-5cb3-48e9-81e0-048ea9ba536b');\n",
              "          const dataTable =\n",
              "            await google.colab.kernel.invokeFunction('convertToInteractive',\n",
              "                                                     [key], {});\n",
              "          if (!dataTable) return;\n",
              "\n",
              "          const docLinkHtml = 'Like what you see? Visit the ' +\n",
              "            '<a target=\"_blank\" href=https://colab.research.google.com/notebooks/data_table.ipynb>data table notebook</a>'\n",
              "            + ' to learn more about interactive tables.';\n",
              "          element.innerHTML = '';\n",
              "          dataTable['output_type'] = 'display_data';\n",
              "          await google.colab.output.renderOutput(dataTable, element);\n",
              "          const docLink = document.createElement('div');\n",
              "          docLink.innerHTML = docLinkHtml;\n",
              "          element.appendChild(docLink);\n",
              "        }\n",
              "      </script>\n",
              "    </div>\n",
              "  </div>\n",
              "  "
            ],
            "text/plain": [
              "   RowNumber  CustomerId   Surname  CreditScore Geography  Gender  Age  \\\n",
              "0          1    15634602  Hargrave          619    France  Female   42   \n",
              "1          2    15647311      Hill          608     Spain  Female   41   \n",
              "2          3    15619304      Onio          502    France  Female   42   \n",
              "3          4    15701354      Boni          699    France  Female   39   \n",
              "4          5    15737888  Mitchell          850     Spain  Female   43   \n",
              "\n",
              "   Tenure    Balance  NumOfProducts  HasCrCard  IsActiveMember  \\\n",
              "0       2       0.00              1          1               1   \n",
              "1       1   83807.86              1          0               1   \n",
              "2       8  159660.80              3          1               0   \n",
              "3       1       0.00              2          0               0   \n",
              "4       2  125510.82              1          1               1   \n",
              "\n",
              "   EstimatedSalary  Exited  \n",
              "0        101348.88       1  \n",
              "1        112542.58       0  \n",
              "2        113931.57       1  \n",
              "3         93826.63       0  \n",
              "4         79084.10       0  "
            ]
          },
          "execution_count": 3,
          "metadata": {},
          "output_type": "execute_result"
        }
      ],
      "source": [
        "#to see first 5 records\n",
        "df.head()"
      ]
    },
    {
      "cell_type": "code",
      "execution_count": null,
      "metadata": {
        "colab": {
          "base_uri": "https://localhost:8080/"
        },
        "id": "NjkXClxY0zMw",
        "outputId": "535147f1-b6ba-44cd-987a-6b4af0250d84"
      },
      "outputs": [
        {
          "data": {
            "text/plain": [
              "(10000, 14)"
            ]
          },
          "execution_count": 4,
          "metadata": {},
          "output_type": "execute_result"
        }
      ],
      "source": [
        "#how many rows and columns\n",
        "df.shape"
      ]
    },
    {
      "cell_type": "code",
      "execution_count": null,
      "metadata": {
        "colab": {
          "base_uri": "https://localhost:8080/"
        },
        "id": "rh3Dd1RT19iB",
        "outputId": "c9e383d0-df77-4594-97c3-10917009be76"
      },
      "outputs": [
        {
          "data": {
            "text/plain": [
              "RowNumber          0\n",
              "CustomerId         0\n",
              "Surname            0\n",
              "CreditScore        0\n",
              "Geography          0\n",
              "Gender             0\n",
              "Age                0\n",
              "Tenure             0\n",
              "Balance            0\n",
              "NumOfProducts      0\n",
              "HasCrCard          0\n",
              "IsActiveMember     0\n",
              "EstimatedSalary    0\n",
              "Exited             0\n",
              "dtype: int64"
            ]
          },
          "execution_count": 5,
          "metadata": {},
          "output_type": "execute_result"
        }
      ],
      "source": [
        "#to check null values\n",
        "df.isnull().sum()"
      ]
    },
    {
      "cell_type": "code",
      "execution_count": null,
      "metadata": {
        "colab": {
          "base_uri": "https://localhost:8080/",
          "height": 342
        },
        "id": "wJVTcSzl2AB9",
        "outputId": "69eb5901-7683-48ef-8271-eeb9f0fdd5dd"
      },
      "outputs": [
        {
          "data": {
            "image/png": "[encoded data removed]",
            "text/plain": [
              "<Figure size 432x288 with 2 Axes>"
            ]
          },
          "metadata": {},
          "output_type": "display_data"
        }
      ],
      "source": [
        "#visulization\n",
        "sns.heatmap(df.isnull())\n",
        "plt.show()"
      ]
    },
    {
      "cell_type": "code",
      "execution_count": null,
      "metadata": {
        "colab": {
          "base_uri": "https://localhost:8080/"
        },
        "id": "oJo6BAVJ2CpK",
        "outputId": "fc416242-8975-42bb-f7a9-31512580691c"
      },
      "outputs": [
        {
          "data": {
            "text/plain": [
              "RowNumber            int64\n",
              "CustomerId           int64\n",
              "Surname             object\n",
              "CreditScore          int64\n",
              "Geography           object\n",
              "Gender              object\n",
              "Age                  int64\n",
              "Tenure               int64\n",
              "Balance            float64\n",
              "NumOfProducts        int64\n",
              "HasCrCard            int64\n",
              "IsActiveMember       int64\n",
              "EstimatedSalary    float64\n",
              "Exited               int64\n",
              "dtype: object"
            ]
          },
          "execution_count": 7,
          "metadata": {},
          "output_type": "execute_result"
        }
      ],
      "source": [
        "#check datatype\n",
        "df.dtypes"
      ]
    },
    {
      "cell_type": "code",
      "execution_count": null,
      "metadata": {
        "colab": {
          "base_uri": "https://localhost:8080/"
        },
        "id": "SBwMBVvp2GVn",
        "outputId": "6b9e8fb1-f99a-4c99-b661-c0c781acb4f0"
      },
      "outputs": [
        {
          "data": {
            "text/plain": [
              "0"
            ]
          },
          "execution_count": 8,
          "metadata": {},
          "output_type": "execute_result"
        }
      ],
      "source": [
        "#to check duplicate values\n",
        "df.duplicated().sum()"
      ]
    },
    {
      "cell_type": "code",
      "execution_count": null,
      "metadata": {
        "id": "_qYqzudq2OnB"
      },
      "outputs": [],
      "source": [
        "#to delete unwnted columns\n",
        "df.drop(['RowNumber','CustomerId','Surname'],axis=1,inplace=True)"
      ]
    },
    {
      "cell_type": "code",
      "execution_count": null,
      "metadata": {
        "colab": {
          "base_uri": "https://localhost:8080/",
          "height": 424
        },
        "id": "ZyHiYoON2-kk",
        "outputId": "b084f726-a173-4749-d310-fe1eb73d495b"
      },
      "outputs": [
        {
          "data": {
            "text/html": [
              "\n",
              "  <div id=\"df-1fc3f0cf-650d-444f-8236-3a02361a183f\">\n",
              "    <div class=\"colab-df-container\">\n",
              "      <div>\n",
              "<style scoped>\n",
              "    .dataframe tbody tr th:only-of-type {\n",
              "        vertical-align: middle;\n",
              "    }\n",
              "\n",
              "    .dataframe tbody tr th {\n",
              "        vertical-align: top;\n",
              "    }\n",
              "\n",
              "    .dataframe thead th {\n",
              "        text-align: right;\n",
              "    }\n",
              "</style>\n",
              "<table border=\"1\" class=\"dataframe\">\n",
              "  <thead>\n",
              "    <tr style=\"text-align: right;\">\n",
              "      <th></th>\n",
              "      <th>CreditScore</th>\n",
              "      <th>Geography</th>\n",
              "      <th>Gender</th>\n",
              "      <th>Age</th>\n",
              "      <th>Tenure</th>\n",
              "      <th>Balance</th>\n",
              "      <th>NumOfProducts</th>\n",
              "      <th>HasCrCard</th>\n",
              "      <th>IsActiveMember</th>\n",
              "      <th>EstimatedSalary</th>\n",
              "      <th>Exited</th>\n",
              "    </tr>\n",
              "  </thead>\n",
              "  <tbody>\n",
              "    <tr>\n",
              "      <th>0</th>\n",
              "      <td>619</td>\n",
              "      <td>France</td>\n",
              "      <td>Female</td>\n",
              "      <td>42</td>\n",
              "      <td>2</td>\n",
              "      <td>0.00</td>\n",
              "      <td>1</td>\n",
              "      <td>1</td>\n",
              "      <td>1</td>\n",
              "      <td>101348.88</td>\n",
              "      <td>1</td>\n",
              "    </tr>\n",
              "    <tr>\n",
              "      <th>1</th>\n",
              "      <td>608</td>\n",
              "      <td>Spain</td>\n",
              "      <td>Female</td>\n",
              "      <td>41</td>\n",
              "      <td>1</td>\n",
              "      <td>83807.86</td>\n",
              "      <td>1</td>\n",
              "      <td>0</td>\n",
              "      <td>1</td>\n",
              "      <td>112542.58</td>\n",
              "      <td>0</td>\n",
              "    </tr>\n",
              "    <tr>\n",
              "      <th>2</th>\n",
              "      <td>502</td>\n",
              "      <td>France</td>\n",
              "      <td>Female</td>\n",
              "      <td>42</td>\n",
              "      <td>8</td>\n",
              "      <td>159660.80</td>\n",
              "      <td>3</td>\n",
              "      <td>1</td>\n",
              "      <td>0</td>\n",
              "      <td>113931.57</td>\n",
              "      <td>1</td>\n",
              "    </tr>\n",
              "    <tr>\n",
              "      <th>3</th>\n",
              "      <td>699</td>\n",
              "      <td>France</td>\n",
              "      <td>Female</td>\n",
              "      <td>39</td>\n",
              "      <td>1</td>\n",
              "      <td>0.00</td>\n",
              "      <td>2</td>\n",
              "      <td>0</td>\n",
              "      <td>0</td>\n",
              "      <td>93826.63</td>\n",
              "      <td>0</td>\n",
              "    </tr>\n",
              "    <tr>\n",
              "      <th>4</th>\n",
              "      <td>850</td>\n",
              "      <td>Spain</td>\n",
              "      <td>Female</td>\n",
              "      <td>43</td>\n",
              "      <td>2</td>\n",
              "      <td>125510.82</td>\n",
              "      <td>1</td>\n",
              "      <td>1</td>\n",
              "      <td>1</td>\n",
              "      <td>79084.10</td>\n",
              "      <td>0</td>\n",
              "    </tr>\n",
              "    <tr>\n",
              "      <th>...</th>\n",
              "      <td>...</td>\n",
              "      <td>...</td>\n",
              "      <td>...</td>\n",
              "      <td>...</td>\n",
              "      <td>...</td>\n",
              "      <td>...</td>\n",
              "      <td>...</td>\n",
              "      <td>...</td>\n",
              "      <td>...</td>\n",
              "      <td>...</td>\n",
              "      <td>...</td>\n",
              "    </tr>\n",
              "    <tr>\n",
              "      <th>9995</th>\n",
              "      <td>771</td>\n",
              "      <td>France</td>\n",
              "      <td>Male</td>\n",
              "      <td>39</td>\n",
              "      <td>5</td>\n",
              "      <td>0.00</td>\n",
              "      <td>2</td>\n",
              "      <td>1</td>\n",
              "      <td>0</td>\n",
              "      <td>96270.64</td>\n",
              "      <td>0</td>\n",
              "    </tr>\n",
              "    <tr>\n",
              "      <th>9996</th>\n",
              "      <td>516</td>\n",
              "      <td>France</td>\n",
              "      <td>Male</td>\n",
              "      <td>35</td>\n",
              "      <td>10</td>\n",
              "      <td>57369.61</td>\n",
              "      <td>1</td>\n",
              "      <td>1</td>\n",
              "      <td>1</td>\n",
              "      <td>101699.77</td>\n",
              "      <td>0</td>\n",
              "    </tr>\n",
              "    <tr>\n",
              "      <th>9997</th>\n",
              "      <td>709</td>\n",
              "      <td>France</td>\n",
              "      <td>Female</td>\n",
              "      <td>36</td>\n",
              "      <td>7</td>\n",
              "      <td>0.00</td>\n",
              "      <td>1</td>\n",
              "      <td>0</td>\n",
              "      <td>1</td>\n",
              "      <td>42085.58</td>\n",
              "      <td>1</td>\n",
              "    </tr>\n",
              "    <tr>\n",
              "      <th>9998</th>\n",
              "      <td>772</td>\n",
              "      <td>Germany</td>\n",
              "      <td>Male</td>\n",
              "      <td>42</td>\n",
              "      <td>3</td>\n",
              "      <td>75075.31</td>\n",
              "      <td>2</td>\n",
              "      <td>1</td>\n",
              "      <td>0</td>\n",
              "      <td>92888.52</td>\n",
              "      <td>1</td>\n",
              "    </tr>\n",
              "    <tr>\n",
              "      <th>9999</th>\n",
              "      <td>792</td>\n",
              "      <td>France</td>\n",
              "      <td>Female</td>\n",
              "      <td>28</td>\n",
              "      <td>4</td>\n",
              "      <td>130142.79</td>\n",
              "      <td>1</td>\n",
              "      <td>1</td>\n",
              "      <td>0</td>\n",
              "      <td>38190.78</td>\n",
              "      <td>0</td>\n",
              "    </tr>\n",
              "  </tbody>\n",
              "</table>\n",
              "<p>10000 rows × 11 columns</p>\n",
              "</div>\n",
              "      <button class=\"colab-df-convert\" onclick=\"convertToInteractive('df-1fc3f0cf-650d-444f-8236-3a02361a183f')\"\n",
              "              title=\"Convert this dataframe to an interactive table.\"\n",
              "              style=\"display:none;\">\n",
              "        \n",
              "  <svg xmlns=\"http://www.w3.org/2000/svg\" height=\"24px\"viewBox=\"0 0 24 24\"\n",
              "       width=\"24px\">\n",
              "    <path d=\"M0 0h24v24H0V0z\" fill=\"none\"/>\n",
              "    <path d=\"M18.56 5.44l.94 2.06.94-2.06 2.06-.94-2.06-.94-.94-2.06-.94 2.06-2.06.94zm-11 1L8.5 8.5l.94-2.06 2.06-.94-2.06-.94L8.5 2.5l-.94 2.06-2.06.94zm10 10l.94 2.06.94-2.06 2.06-.94-2.06-.94-.94-2.06-.94 2.06-2.06.94z\"/><path d=\"M17.41 7.96l-1.37-1.37c-.4-.4-.92-.59-1.43-.59-.52 0-1.04.2-1.43.59L10.3 9.45l-7.72 7.72c-.78.78-.78 2.05 0 2.83L4 21.41c.39.39.9.59 1.41.59.51 0 1.02-.2 1.41-.59l7.78-7.78 2.81-2.81c.8-.78.8-2.07 0-2.86zM5.41 20L4 18.59l7.72-7.72 1.47 1.35L5.41 20z\"/>\n",
              "  </svg>\n",
              "      </button>\n",
              "      \n",
              "  <style>\n",
              "    .colab-df-container {\n",
              "      display:flex;\n",
              "      flex-wrap:wrap;\n",
              "      gap: 12px;\n",
              "    }\n",
              "\n",
              "    .colab-df-convert {\n",
              "      background-color: #E8F0FE;\n",
              "      border: none;\n",
              "      border-radius: 50%;\n",
              "      cursor: pointer;\n",
              "      display: none;\n",
              "      fill: #1967D2;\n",
              "      height: 32px;\n",
              "      padding: 0 0 0 0;\n",
              "      width: 32px;\n",
              "    }\n",
              "\n",
              "    .colab-df-convert:hover {\n",
              "      background-color: #E2EBFA;\n",
              "      box-shadow: 0px 1px 2px rgba(60, 64, 67, 0.3), 0px 1px 3px 1px rgba(60, 64, 67, 0.15);\n",
              "      fill: #174EA6;\n",
              "    }\n",
              "\n",
              "    [theme=dark] .colab-df-convert {\n",
              "      background-color: #3B4455;\n",
              "      fill: #D2E3FC;\n",
              "    }\n",
              "\n",
              "    [theme=dark] .colab-df-convert:hover {\n",
              "      background-color: #434B5C;\n",
              "      box-shadow: 0px 1px 3px 1px rgba(0, 0, 0, 0.15);\n",
              "      filter: drop-shadow(0px 1px 2px rgba(0, 0, 0, 0.3));\n",
              "      fill: #FFFFFF;\n",
              "    }\n",
              "  </style>\n",
              "\n",
              "      <script>\n",
              "        const buttonEl =\n",
              "          document.querySelector('#df-1fc3f0cf-650d-444f-8236-3a02361a183f button.colab-df-convert');\n",
              "        buttonEl.style.display =\n",
              "          google.colab.kernel.accessAllowed ? 'block' : 'none';\n",
              "\n",
              "        async function convertToInteractive(key) {\n",
              "          const element = document.querySelector('#df-1fc3f0cf-650d-444f-8236-3a02361a183f');\n",
              "          const dataTable =\n",
              "            await google.colab.kernel.invokeFunction('convertToInteractive',\n",
              "                                                     [key], {});\n",
              "          if (!dataTable) return;\n",
              "\n",
              "          const docLinkHtml = 'Like what you see? Visit the ' +\n",
              "            '<a target=\"_blank\" href=https://colab.research.google.com/notebooks/data_table.ipynb>data table notebook</a>'\n",
              "            + ' to learn more about interactive tables.';\n",
              "          element.innerHTML = '';\n",
              "          dataTable['output_type'] = 'display_data';\n",
              "          await google.colab.output.renderOutput(dataTable, element);\n",
              "          const docLink = document.createElement('div');\n",
              "          docLink.innerHTML = docLinkHtml;\n",
              "          element.appendChild(docLink);\n",
              "        }\n",
              "      </script>\n",
              "    </div>\n",
              "  </div>\n",
              "  "
            ],
            "text/plain": [
              "      CreditScore Geography  Gender  Age  Tenure    Balance  NumOfProducts  \\\n",
              "0             619    France  Female   42       2       0.00              1   \n",
              "1             608     Spain  Female   41       1   83807.86              1   \n",
              "2             502    France  Female   42       8  159660.80              3   \n",
              "3             699    France  Female   39       1       0.00              2   \n",
              "4             850     Spain  Female   43       2  125510.82              1   \n",
              "...           ...       ...     ...  ...     ...        ...            ...   \n",
              "9995          771    France    Male   39       5       0.00              2   \n",
              "9996          516    France    Male   35      10   57369.61              1   \n",
              "9997          709    France  Female   36       7       0.00              1   \n",
              "9998          772   Germany    Male   42       3   75075.31              2   \n",
              "9999          792    France  Female   28       4  130142.79              1   \n",
              "\n",
              "      HasCrCard  IsActiveMember  EstimatedSalary  Exited  \n",
              "0             1               1        101348.88       1  \n",
              "1             0               1        112542.58       0  \n",
              "2             1               0        113931.57       1  \n",
              "3             0               0         93826.63       0  \n",
              "4             1               1         79084.10       0  \n",
              "...         ...             ...              ...     ...  \n",
              "9995          1               0         96270.64       0  \n",
              "9996          1               1        101699.77       0  \n",
              "9997          0               1         42085.58       1  \n",
              "9998          1               0         92888.52       1  \n",
              "9999          1               0         38190.78       0  \n",
              "\n",
              "[10000 rows x 11 columns]"
            ]
          },
          "execution_count": 10,
          "metadata": {},
          "output_type": "execute_result"
        }
      ],
      "source": [
        "df"
      ]
    },
    {
      "cell_type": "code",
      "execution_count": null,
      "metadata": {
        "colab": {
          "base_uri": "https://localhost:8080/"
        },
        "id": "l3rIkJlp387N",
        "outputId": "59f567f5-59a4-479b-8028-6b9812356fa1"
      },
      "outputs": [
        {
          "data": {
            "text/plain": [
              "0    7963\n",
              "1    2037\n",
              "Name: Exited, dtype: int64"
            ]
          },
          "execution_count": 11,
          "metadata": {},
          "output_type": "execute_result"
        }
      ],
      "source": [
        "#how many samples of 1 and 0 in insuranceclaim output variable\n",
        "df[\"Exited\"].value_counts()"
      ]
    },
    {
      "cell_type": "code",
      "execution_count": null,
      "metadata": {
        "id": "CVlkW48Z4b2R"
      },
      "outputs": [],
      "source": [
        "#randomoversampling\n",
        "from imblearn.over_sampling import RandomOverSampler\n",
        "\n",
        "#create object of RandomOverSampler\n",
        "ros=RandomOverSampler"
      ]
    },
    {
      "cell_type": "code",
      "execution_count": null,
      "metadata": {
        "id": "tYIXKDnq5Aiz"
      },
      "outputs": [],
      "source": [
        "#split data into 2 parts\n",
        "df_num=df.select_dtypes(['float64','int64'])\n",
        "df_cat=df.select_dtypes('object')"
      ]
    },
    {
      "cell_type": "code",
      "execution_count": null,
      "metadata": {
        "colab": {
          "base_uri": "https://localhost:8080/",
          "height": 424
        },
        "id": "jgCceOB27LLL",
        "outputId": "2a194492-2641-4c66-fc23-d028ac5b18a1"
      },
      "outputs": [
        {
          "data": {
            "text/html": [
              "\n",
              "  <div id=\"df-bd88ebf2-b805-4a85-acbd-8d2495d61855\">\n",
              "    <div class=\"colab-df-container\">\n",
              "      <div>\n",
              "<style scoped>\n",
              "    .dataframe tbody tr th:only-of-type {\n",
              "        vertical-align: middle;\n",
              "    }\n",
              "\n",
              "    .dataframe tbody tr th {\n",
              "        vertical-align: top;\n",
              "    }\n",
              "\n",
              "    .dataframe thead th {\n",
              "        text-align: right;\n",
              "    }\n",
              "</style>\n",
              "<table border=\"1\" class=\"dataframe\">\n",
              "  <thead>\n",
              "    <tr style=\"text-align: right;\">\n",
              "      <th></th>\n",
              "      <th>Geography</th>\n",
              "      <th>Gender</th>\n",
              "    </tr>\n",
              "  </thead>\n",
              "  <tbody>\n",
              "    <tr>\n",
              "      <th>0</th>\n",
              "      <td>France</td>\n",
              "      <td>Female</td>\n",
              "    </tr>\n",
              "    <tr>\n",
              "      <th>1</th>\n",
              "      <td>Spain</td>\n",
              "      <td>Female</td>\n",
              "    </tr>\n",
              "    <tr>\n",
              "      <th>2</th>\n",
              "      <td>France</td>\n",
              "      <td>Female</td>\n",
              "    </tr>\n",
              "    <tr>\n",
              "      <th>3</th>\n",
              "      <td>France</td>\n",
              "      <td>Female</td>\n",
              "    </tr>\n",
              "    <tr>\n",
              "      <th>4</th>\n",
              "      <td>Spain</td>\n",
              "      <td>Female</td>\n",
              "    </tr>\n",
              "    <tr>\n",
              "      <th>...</th>\n",
              "      <td>...</td>\n",
              "      <td>...</td>\n",
              "    </tr>\n",
              "    <tr>\n",
              "      <th>9995</th>\n",
              "      <td>France</td>\n",
              "      <td>Male</td>\n",
              "    </tr>\n",
              "    <tr>\n",
              "      <th>9996</th>\n",
              "      <td>France</td>\n",
              "      <td>Male</td>\n",
              "    </tr>\n",
              "    <tr>\n",
              "      <th>9997</th>\n",
              "      <td>France</td>\n",
              "      <td>Female</td>\n",
              "    </tr>\n",
              "    <tr>\n",
              "      <th>9998</th>\n",
              "      <td>Germany</td>\n",
              "      <td>Male</td>\n",
              "    </tr>\n",
              "    <tr>\n",
              "      <th>9999</th>\n",
              "      <td>France</td>\n",
              "      <td>Female</td>\n",
              "    </tr>\n",
              "  </tbody>\n",
              "</table>\n",
              "<p>10000 rows × 2 columns</p>\n",
              "</div>\n",
              "      <button class=\"colab-df-convert\" onclick=\"convertToInteractive('df-bd88ebf2-b805-4a85-acbd-8d2495d61855')\"\n",
              "              title=\"Convert this dataframe to an interactive table.\"\n",
              "              style=\"display:none;\">\n",
              "        \n",
              "  <svg xmlns=\"http://www.w3.org/2000/svg\" height=\"24px\"viewBox=\"0 0 24 24\"\n",
              "       width=\"24px\">\n",
              "    <path d=\"M0 0h24v24H0V0z\" fill=\"none\"/>\n",
              "    <path d=\"M18.56 5.44l.94 2.06.94-2.06 2.06-.94-2.06-.94-.94-2.06-.94 2.06-2.06.94zm-11 1L8.5 8.5l.94-2.06 2.06-.94-2.06-.94L8.5 2.5l-.94 2.06-2.06.94zm10 10l.94 2.06.94-2.06 2.06-.94-2.06-.94-.94-2.06-.94 2.06-2.06.94z\"/><path d=\"M17.41 7.96l-1.37-1.37c-.4-.4-.92-.59-1.43-.59-.52 0-1.04.2-1.43.59L10.3 9.45l-7.72 7.72c-.78.78-.78 2.05 0 2.83L4 21.41c.39.39.9.59 1.41.59.51 0 1.02-.2 1.41-.59l7.78-7.78 2.81-2.81c.8-.78.8-2.07 0-2.86zM5.41 20L4 18.59l7.72-7.72 1.47 1.35L5.41 20z\"/>\n",
              "  </svg>\n",
              "      </button>\n",
              "      \n",
              "  <style>\n",
              "    .colab-df-container {\n",
              "      display:flex;\n",
              "      flex-wrap:wrap;\n",
              "      gap: 12px;\n",
              "    }\n",
              "\n",
              "    .colab-df-convert {\n",
              "      background-color: #E8F0FE;\n",
              "      border: none;\n",
              "      border-radius: 50%;\n",
              "      cursor: pointer;\n",
              "      display: none;\n",
              "      fill: #1967D2;\n",
              "      height: 32px;\n",
              "      padding: 0 0 0 0;\n",
              "      width: 32px;\n",
              "    }\n",
              "\n",
              "    .colab-df-convert:hover {\n",
              "      background-color: #E2EBFA;\n",
              "      box-shadow: 0px 1px 2px rgba(60, 64, 67, 0.3), 0px 1px 3px 1px rgba(60, 64, 67, 0.15);\n",
              "      fill: #174EA6;\n",
              "    }\n",
              "\n",
              "    [theme=dark] .colab-df-convert {\n",
              "      background-color: #3B4455;\n",
              "      fill: #D2E3FC;\n",
              "    }\n",
              "\n",
              "    [theme=dark] .colab-df-convert:hover {\n",
              "      background-color: #434B5C;\n",
              "      box-shadow: 0px 1px 3px 1px rgba(0, 0, 0, 0.15);\n",
              "      filter: drop-shadow(0px 1px 2px rgba(0, 0, 0, 0.3));\n",
              "      fill: #FFFFFF;\n",
              "    }\n",
              "  </style>\n",
              "\n",
              "      <script>\n",
              "        const buttonEl =\n",
              "          document.querySelector('#df-bd88ebf2-b805-4a85-acbd-8d2495d61855 button.colab-df-convert');\n",
              "        buttonEl.style.display =\n",
              "          google.colab.kernel.accessAllowed ? 'block' : 'none';\n",
              "\n",
              "        async function convertToInteractive(key) {\n",
              "          const element = document.querySelector('#df-bd88ebf2-b805-4a85-acbd-8d2495d61855');\n",
              "          const dataTable =\n",
              "            await google.colab.kernel.invokeFunction('convertToInteractive',\n",
              "                                                     [key], {});\n",
              "          if (!dataTable) return;\n",
              "\n",
              "          const docLinkHtml = 'Like what you see? Visit the ' +\n",
              "            '<a target=\"_blank\" href=https://colab.research.google.com/notebooks/data_table.ipynb>data table notebook</a>'\n",
              "            + ' to learn more about interactive tables.';\n",
              "          element.innerHTML = '';\n",
              "          dataTable['output_type'] = 'display_data';\n",
              "          await google.colab.output.renderOutput(dataTable, element);\n",
              "          const docLink = document.createElement('div');\n",
              "          docLink.innerHTML = docLinkHtml;\n",
              "          element.appendChild(docLink);\n",
              "        }\n",
              "      </script>\n",
              "    </div>\n",
              "  </div>\n",
              "  "
            ],
            "text/plain": [
              "     Geography  Gender\n",
              "0       France  Female\n",
              "1        Spain  Female\n",
              "2       France  Female\n",
              "3       France  Female\n",
              "4        Spain  Female\n",
              "...        ...     ...\n",
              "9995    France    Male\n",
              "9996    France    Male\n",
              "9997    France  Female\n",
              "9998   Germany    Male\n",
              "9999    France  Female\n",
              "\n",
              "[10000 rows x 2 columns]"
            ]
          },
          "execution_count": 14,
          "metadata": {},
          "output_type": "execute_result"
        }
      ],
      "source": [
        "df_cat"
      ]
    },
    {
      "cell_type": "code",
      "execution_count": null,
      "metadata": {
        "colab": {
          "base_uri": "https://localhost:8080/",
          "height": 424
        },
        "id": "UhbjpdXf7r8Z",
        "outputId": "4f787394-e781-454e-c48b-a50185c83ca0"
      },
      "outputs": [
        {
          "data": {
            "text/html": [
              "\n",
              "  <div id=\"df-58db02fd-2c89-45b3-8392-ec86bad8974a\">\n",
              "    <div class=\"colab-df-container\">\n",
              "      <div>\n",
              "<style scoped>\n",
              "    .dataframe tbody tr th:only-of-type {\n",
              "        vertical-align: middle;\n",
              "    }\n",
              "\n",
              "    .dataframe tbody tr th {\n",
              "        vertical-align: top;\n",
              "    }\n",
              "\n",
              "    .dataframe thead th {\n",
              "        text-align: right;\n",
              "    }\n",
              "</style>\n",
              "<table border=\"1\" class=\"dataframe\">\n",
              "  <thead>\n",
              "    <tr style=\"text-align: right;\">\n",
              "      <th></th>\n",
              "      <th>CreditScore</th>\n",
              "      <th>Age</th>\n",
              "      <th>Tenure</th>\n",
              "      <th>Balance</th>\n",
              "      <th>NumOfProducts</th>\n",
              "      <th>HasCrCard</th>\n",
              "      <th>IsActiveMember</th>\n",
              "      <th>EstimatedSalary</th>\n",
              "      <th>Exited</th>\n",
              "    </tr>\n",
              "  </thead>\n",
              "  <tbody>\n",
              "    <tr>\n",
              "      <th>0</th>\n",
              "      <td>619</td>\n",
              "      <td>42</td>\n",
              "      <td>2</td>\n",
              "      <td>0.00</td>\n",
              "      <td>1</td>\n",
              "      <td>1</td>\n",
              "      <td>1</td>\n",
              "      <td>101348.88</td>\n",
              "      <td>1</td>\n",
              "    </tr>\n",
              "    <tr>\n",
              "      <th>1</th>\n",
              "      <td>608</td>\n",
              "      <td>41</td>\n",
              "      <td>1</td>\n",
              "      <td>83807.86</td>\n",
              "      <td>1</td>\n",
              "      <td>0</td>\n",
              "      <td>1</td>\n",
              "      <td>112542.58</td>\n",
              "      <td>0</td>\n",
              "    </tr>\n",
              "    <tr>\n",
              "      <th>2</th>\n",
              "      <td>502</td>\n",
              "      <td>42</td>\n",
              "      <td>8</td>\n",
              "      <td>159660.80</td>\n",
              "      <td>3</td>\n",
              "      <td>1</td>\n",
              "      <td>0</td>\n",
              "      <td>113931.57</td>\n",
              "      <td>1</td>\n",
              "    </tr>\n",
              "    <tr>\n",
              "      <th>3</th>\n",
              "      <td>699</td>\n",
              "      <td>39</td>\n",
              "      <td>1</td>\n",
              "      <td>0.00</td>\n",
              "      <td>2</td>\n",
              "      <td>0</td>\n",
              "      <td>0</td>\n",
              "      <td>93826.63</td>\n",
              "      <td>0</td>\n",
              "    </tr>\n",
              "    <tr>\n",
              "      <th>4</th>\n",
              "      <td>850</td>\n",
              "      <td>43</td>\n",
              "      <td>2</td>\n",
              "      <td>125510.82</td>\n",
              "      <td>1</td>\n",
              "      <td>1</td>\n",
              "      <td>1</td>\n",
              "      <td>79084.10</td>\n",
              "      <td>0</td>\n",
              "    </tr>\n",
              "    <tr>\n",
              "      <th>...</th>\n",
              "      <td>...</td>\n",
              "      <td>...</td>\n",
              "      <td>...</td>\n",
              "      <td>...</td>\n",
              "      <td>...</td>\n",
              "      <td>...</td>\n",
              "      <td>...</td>\n",
              "      <td>...</td>\n",
              "      <td>...</td>\n",
              "    </tr>\n",
              "    <tr>\n",
              "      <th>9995</th>\n",
              "      <td>771</td>\n",
              "      <td>39</td>\n",
              "      <td>5</td>\n",
              "      <td>0.00</td>\n",
              "      <td>2</td>\n",
              "      <td>1</td>\n",
              "      <td>0</td>\n",
              "      <td>96270.64</td>\n",
              "      <td>0</td>\n",
              "    </tr>\n",
              "    <tr>\n",
              "      <th>9996</th>\n",
              "      <td>516</td>\n",
              "      <td>35</td>\n",
              "      <td>10</td>\n",
              "      <td>57369.61</td>\n",
              "      <td>1</td>\n",
              "      <td>1</td>\n",
              "      <td>1</td>\n",
              "      <td>101699.77</td>\n",
              "      <td>0</td>\n",
              "    </tr>\n",
              "    <tr>\n",
              "      <th>9997</th>\n",
              "      <td>709</td>\n",
              "      <td>36</td>\n",
              "      <td>7</td>\n",
              "      <td>0.00</td>\n",
              "      <td>1</td>\n",
              "      <td>0</td>\n",
              "      <td>1</td>\n",
              "      <td>42085.58</td>\n",
              "      <td>1</td>\n",
              "    </tr>\n",
              "    <tr>\n",
              "      <th>9998</th>\n",
              "      <td>772</td>\n",
              "      <td>42</td>\n",
              "      <td>3</td>\n",
              "      <td>75075.31</td>\n",
              "      <td>2</td>\n",
              "      <td>1</td>\n",
              "      <td>0</td>\n",
              "      <td>92888.52</td>\n",
              "      <td>1</td>\n",
              "    </tr>\n",
              "    <tr>\n",
              "      <th>9999</th>\n",
              "      <td>792</td>\n",
              "      <td>28</td>\n",
              "      <td>4</td>\n",
              "      <td>130142.79</td>\n",
              "      <td>1</td>\n",
              "      <td>1</td>\n",
              "      <td>0</td>\n",
              "      <td>38190.78</td>\n",
              "      <td>0</td>\n",
              "    </tr>\n",
              "  </tbody>\n",
              "</table>\n",
              "<p>10000 rows × 9 columns</p>\n",
              "</div>\n",
              "      <button class=\"colab-df-convert\" onclick=\"convertToInteractive('df-58db02fd-2c89-45b3-8392-ec86bad8974a')\"\n",
              "              title=\"Convert this dataframe to an interactive table.\"\n",
              "              style=\"display:none;\">\n",
              "        \n",
              "  <svg xmlns=\"http://www.w3.org/2000/svg\" height=\"24px\"viewBox=\"0 0 24 24\"\n",
              "       width=\"24px\">\n",
              "    <path d=\"M0 0h24v24H0V0z\" fill=\"none\"/>\n",
              "    <path d=\"M18.56 5.44l.94 2.06.94-2.06 2.06-.94-2.06-.94-.94-2.06-.94 2.06-2.06.94zm-11 1L8.5 8.5l.94-2.06 2.06-.94-2.06-.94L8.5 2.5l-.94 2.06-2.06.94zm10 10l.94 2.06.94-2.06 2.06-.94-2.06-.94-.94-2.06-.94 2.06-2.06.94z\"/><path d=\"M17.41 7.96l-1.37-1.37c-.4-.4-.92-.59-1.43-.59-.52 0-1.04.2-1.43.59L10.3 9.45l-7.72 7.72c-.78.78-.78 2.05 0 2.83L4 21.41c.39.39.9.59 1.41.59.51 0 1.02-.2 1.41-.59l7.78-7.78 2.81-2.81c.8-.78.8-2.07 0-2.86zM5.41 20L4 18.59l7.72-7.72 1.47 1.35L5.41 20z\"/>\n",
              "  </svg>\n",
              "      </button>\n",
              "      \n",
              "  <style>\n",
              "    .colab-df-container {\n",
              "      display:flex;\n",
              "      flex-wrap:wrap;\n",
              "      gap: 12px;\n",
              "    }\n",
              "\n",
              "    .colab-df-convert {\n",
              "      background-color: #E8F0FE;\n",
              "      border: none;\n",
              "      border-radius: 50%;\n",
              "      cursor: pointer;\n",
              "      display: none;\n",
              "      fill: #1967D2;\n",
              "      height: 32px;\n",
              "      padding: 0 0 0 0;\n",
              "      width: 32px;\n",
              "    }\n",
              "\n",
              "    .colab-df-convert:hover {\n",
              "      background-color: #E2EBFA;\n",
              "      box-shadow: 0px 1px 2px rgba(60, 64, 67, 0.3), 0px 1px 3px 1px rgba(60, 64, 67, 0.15);\n",
              "      fill: #174EA6;\n",
              "    }\n",
              "\n",
              "    [theme=dark] .colab-df-convert {\n",
              "      background-color: #3B4455;\n",
              "      fill: #D2E3FC;\n",
              "    }\n",
              "\n",
              "    [theme=dark] .colab-df-convert:hover {\n",
              "      background-color: #434B5C;\n",
              "      box-shadow: 0px 1px 3px 1px rgba(0, 0, 0, 0.15);\n",
              "      filter: drop-shadow(0px 1px 2px rgba(0, 0, 0, 0.3));\n",
              "      fill: #FFFFFF;\n",
              "    }\n",
              "  </style>\n",
              "\n",
              "      <script>\n",
              "        const buttonEl =\n",
              "          document.querySelector('#df-58db02fd-2c89-45b3-8392-ec86bad8974a button.colab-df-convert');\n",
              "        buttonEl.style.display =\n",
              "          google.colab.kernel.accessAllowed ? 'block' : 'none';\n",
              "\n",
              "        async function convertToInteractive(key) {\n",
              "          const element = document.querySelector('#df-58db02fd-2c89-45b3-8392-ec86bad8974a');\n",
              "          const dataTable =\n",
              "            await google.colab.kernel.invokeFunction('convertToInteractive',\n",
              "                                                     [key], {});\n",
              "          if (!dataTable) return;\n",
              "\n",
              "          const docLinkHtml = 'Like what you see? Visit the ' +\n",
              "            '<a target=\"_blank\" href=https://colab.research.google.com/notebooks/data_table.ipynb>data table notebook</a>'\n",
              "            + ' to learn more about interactive tables.';\n",
              "          element.innerHTML = '';\n",
              "          dataTable['output_type'] = 'display_data';\n",
              "          await google.colab.output.renderOutput(dataTable, element);\n",
              "          const docLink = document.createElement('div');\n",
              "          docLink.innerHTML = docLinkHtml;\n",
              "          element.appendChild(docLink);\n",
              "        }\n",
              "      </script>\n",
              "    </div>\n",
              "  </div>\n",
              "  "
            ],
            "text/plain": [
              "      CreditScore  Age  Tenure    Balance  NumOfProducts  HasCrCard  \\\n",
              "0             619   42       2       0.00              1          1   \n",
              "1             608   41       1   83807.86              1          0   \n",
              "2             502   42       8  159660.80              3          1   \n",
              "3             699   39       1       0.00              2          0   \n",
              "4             850   43       2  125510.82              1          1   \n",
              "...           ...  ...     ...        ...            ...        ...   \n",
              "9995          771   39       5       0.00              2          1   \n",
              "9996          516   35      10   57369.61              1          1   \n",
              "9997          709   36       7       0.00              1          0   \n",
              "9998          772   42       3   75075.31              2          1   \n",
              "9999          792   28       4  130142.79              1          1   \n",
              "\n",
              "      IsActiveMember  EstimatedSalary  Exited  \n",
              "0                  1        101348.88       1  \n",
              "1                  1        112542.58       0  \n",
              "2                  0        113931.57       1  \n",
              "3                  0         93826.63       0  \n",
              "4                  1         79084.10       0  \n",
              "...              ...              ...     ...  \n",
              "9995               0         96270.64       0  \n",
              "9996               1        101699.77       0  \n",
              "9997               1         42085.58       1  \n",
              "9998               0         92888.52       1  \n",
              "9999               0         38190.78       0  \n",
              "\n",
              "[10000 rows x 9 columns]"
            ]
          },
          "execution_count": 15,
          "metadata": {},
          "output_type": "execute_result"
        }
      ],
      "source": [
        "df_num"
      ]
    },
    {
      "cell_type": "code",
      "execution_count": null,
      "metadata": {
        "colab": {
          "base_uri": "https://localhost:8080/"
        },
        "id": "eZwbhpbY9I1P",
        "outputId": "d30d279c-8585-41ef-c296-5ae2454e0c2b"
      },
      "outputs": [
        {
          "name": "stdout",
          "output_type": "stream",
          "text": [
            "columns\n"
          ]
        }
      ],
      "source": [
        "#applying labelencoder\n",
        "from sklearn.preprocessing import LabelEncoder\n",
        "columns=df_cat.columns\n",
        "print('columns')\n",
        "for col in columns:\n",
        "  #create object type of labelencoder \n",
        "  le=LabelEncoder()\n",
        "  df_cat[col]=le.fit_transform(df_cat[col])"
      ]
    },
    {
      "cell_type": "code",
      "execution_count": null,
      "metadata": {
        "colab": {
          "base_uri": "https://localhost:8080/"
        },
        "id": "G6xO6wrk7ufP",
        "outputId": "e5c35869-b6e6-4420-c4d5-2a8c71386226"
      },
      "outputs": [
        {
          "data": {
            "text/plain": [
              "Geography    int64\n",
              "Gender       int64\n",
              "dtype: object"
            ]
          },
          "execution_count": 17,
          "metadata": {},
          "output_type": "execute_result"
        }
      ],
      "source": [
        "df_cat.dtypes"
      ]
    },
    {
      "cell_type": "code",
      "execution_count": null,
      "metadata": {
        "id": "AronW7IS8ZcW"
      },
      "outputs": [],
      "source": [
        "#merge\n",
        "df_new=pd.concat([df_cat,df_num],axis=1)"
      ]
    },
    {
      "cell_type": "code",
      "execution_count": null,
      "metadata": {
        "id": "usCHbJVg-yHH"
      },
      "outputs": [],
      "source": [
        "#first we select input and output and then split our data\n",
        "X=df_new.drop(\"Exited\",axis=1)\n",
        "Y=df_new[\"Exited\"]"
      ]
    },
    {
      "cell_type": "code",
      "execution_count": null,
      "metadata": {
        "id": "YNjGPtKd_wDw"
      },
      "outputs": [],
      "source": [
        "#train_test_split\n",
        "from sklearn.model_selection import train_test_split\n",
        "X_train,X_test,Y_train,Y_test=train_test_split(X,Y,test_size=0.3,random_state=1)"
      ]
    },
    {
      "cell_type": "code",
      "execution_count": null,
      "metadata": {
        "colab": {
          "base_uri": "https://localhost:8080/"
        },
        "id": "aK6rEmMXBqW3",
        "outputId": "ad63527d-0761-4aab-cfbe-753086cb1d6f"
      },
      "outputs": [
        {
          "data": {
            "text/plain": [
              "0    7963\n",
              "1    2037\n",
              "Name: Exited, dtype: int64"
            ]
          },
          "execution_count": 21,
          "metadata": {},
          "output_type": "execute_result"
        }
      ],
      "source": [
        "df[\"Exited\"].value_counts()"
      ]
    },
    {
      "cell_type": "code",
      "execution_count": null,
      "metadata": {
        "colab": {
          "base_uri": "https://localhost:8080/",
          "height": 388
        },
        "id": "CehqnkZbBzza",
        "outputId": "619c2797-4c9e-4994-8a35-ea35a31c132a"
      },
      "outputs": [
        {
          "data": {
            "image/png": "[encoded data removed]",
            "text/plain": [
              "<Figure size 720x432 with 1 Axes>"
            ]
          },
          "metadata": {},
          "output_type": "display_data"
        }
      ],
      "source": [
        "plt.figure(figsize=(10,6))\n",
        "sns.countplot(data=df,x=\"Exited\")\n",
        "c=df[\"Exited\"].value_counts()\n",
        "plt.yticks(c)\n",
        "plt.show()"
      ]
    },
    {
      "cell_type": "code",
      "execution_count": null,
      "metadata": {
        "colab": {
          "base_uri": "https://localhost:8080/"
        },
        "id": "6skxf72hAHZr",
        "outputId": "c8737d52-9ab4-49e2-a53a-9b2f049bee42"
      },
      "outputs": [
        {
          "data": {
            "text/plain": [
              "0    5590\n",
              "1    1410\n",
              "Name: Exited, dtype: int64"
            ]
          },
          "execution_count": 23,
          "metadata": {},
          "output_type": "execute_result"
        }
      ],
      "source": [
        "#checking before applying ros on training data\n",
        "Y_train.value_counts()"
      ]
    },
    {
      "cell_type": "code",
      "execution_count": null,
      "metadata": {
        "id": "foWNdHQhL_Ls"
      },
      "outputs": [],
      "source": [
        "#creating object of RandomOverSampler class\n",
        "ros=RandomOverSampler()"
      ]
    },
    {
      "cell_type": "code",
      "execution_count": null,
      "metadata": {
        "id": "Ulwt-PVlALzn"
      },
      "outputs": [],
      "source": [
        "#applying ros on training data\n",
        "X_train,Y_train=ros.fit_resample(X_train,Y_train)"
      ]
    },
    {
      "cell_type": "code",
      "execution_count": null,
      "metadata": {
        "colab": {
          "base_uri": "https://localhost:8080/"
        },
        "id": "xqFI3ZMGAPUe",
        "outputId": "ed7752d4-2c2a-408e-d2b7-ca5a8402416a"
      },
      "outputs": [
        {
          "data": {
            "text/plain": [
              "0    5590\n",
              "1    5590\n",
              "Name: Exited, dtype: int64"
            ]
          },
          "execution_count": 26,
          "metadata": {},
          "output_type": "execute_result"
        }
      ],
      "source": [
        "#checking afte applying ros on training data\n",
        "Y_train.value_counts()"
      ]
    },
    {
      "cell_type": "code",
      "execution_count": null,
      "metadata": {
        "colab": {
          "base_uri": "https://localhost:8080/"
        },
        "id": "Uo6EcqkeARhQ",
        "outputId": "46d9aec4-f004-4b5d-e505-4f62525f51da"
      },
      "outputs": [
        {
          "data": {
            "text/plain": [
              "0    2373\n",
              "1     627\n",
              "Name: Exited, dtype: int64"
            ]
          },
          "execution_count": 27,
          "metadata": {},
          "output_type": "execute_result"
        }
      ],
      "source": [
        "#same for testing data\n",
        "#checking before applying ros on testing data\n",
        "Y_test.value_counts()"
      ]
    },
    {
      "cell_type": "code",
      "execution_count": null,
      "metadata": {
        "id": "CeqtJOgKATzd"
      },
      "outputs": [],
      "source": [
        "#applying ros on testing data\n",
        "X_test,Y_test=ros.fit_resample(X_test,Y_test)"
      ]
    },
    {
      "cell_type": "code",
      "execution_count": null,
      "metadata": {
        "id": "-ckMFNSjAWsD"
      },
      "outputs": [],
      "source": [
        "#applying ros on testing data\n",
        "X_test,Y_test=ros.fit_resample(X_test,Y_test)"
      ]
    },
    {
      "cell_type": "code",
      "execution_count": null,
      "metadata": {
        "id": "qTTN0JhnAYlt"
      },
      "outputs": [],
      "source": [
        "#applying scaling \n",
        "from sklearn.preprocessing import StandardScaler\n",
        "ss=StandardScaler()\n",
        "X_train=ss.fit_transform(X_train)\n",
        "X_test=ss.transform(X_test)\n",
        "#now that our data is balanced, we can build our model"
      ]
    },
    {
      "cell_type": "code",
      "execution_count": null,
      "metadata": {
        "id": "mWdI_DLMDfgD"
      },
      "outputs": [],
      "source": [
        "#create a neural network\n",
        "import tensorflow as tf\n",
        "#create object of sequential class\n",
        "model=tf.keras.models.Sequential([\n",
        "   tf.keras.layers.Dense(units=10,activation='relu',input_shape=(X.shape[1],)),   #input_dim=7)\n",
        "   #hidden layer \n",
        "   tf.keras.layers.Dense(units=10,activation='relu'), #hiden layer=2\n",
        "   tf.keras.layers.Dense(units=1,activation='sigmoid') #output laye\n",
        "])"
      ]
    },
    {
      "cell_type": "code",
      "execution_count": null,
      "metadata": {
        "colab": {
          "base_uri": "https://localhost:8080/"
        },
        "id": "D0UF0KKiDvxh",
        "outputId": "b1c514a5-2b42-47ca-d53e-bcbf340ccea9"
      },
      "outputs": [
        {
          "name": "stdout",
          "output_type": "stream",
          "text": [
            "Model: \"sequential\"\n",
            "_________________________________________________________________\n",
            " Layer (type)                Output Shape              Param #   \n",
            "=================================================================\n",
            " dense (Dense)               (None, 10)                110       \n",
            "                                                                 \n",
            " dense_1 (Dense)             (None, 10)                110       \n",
            "                                                                 \n",
            " dense_2 (Dense)             (None, 1)                 11        \n",
            "                                                                 \n",
            "=================================================================\n",
            "Total params: 231\n",
            "Trainable params: 231\n",
            "Non-trainable params: 0\n",
            "_________________________________________________________________\n"
          ]
        }
      ],
      "source": [
        "model.summary()"
      ]
    },
    {
      "cell_type": "code",
      "execution_count": null,
      "metadata": {
        "id": "FI3t8LmaD3uv"
      },
      "outputs": [],
      "source": [
        "#compile the model\n",
        "model.compile(optimizer='sgd',loss='binary_crossentropy',metrics=['accuracy'])"
      ]
    },
    {
      "cell_type": "code",
      "execution_count": null,
      "metadata": {
        "id": "VnQsDsD1D8UH"
      },
      "outputs": [],
      "source": [
        "#create early stopping means create a call back\n",
        "from tensorflow.keras.callbacks import EarlyStopping\n",
        "callbacks=EarlyStopping(\n",
        "    monitor=\"val_loss\",\n",
        "    min_delta=0.00001,\n",
        "    patience=20,\n",
        "    verbose=1,\n",
        "    mode=\"auto\",\n",
        "    baseline=None,\n",
        "    restore_best_weights=False,\n",
        ")"
      ]
    },
    {
      "cell_type": "code",
      "execution_count": null,
      "metadata": {
        "id": "8gicbyKdD-8R"
      },
      "outputs": [],
      "source": [
        "#train the model\n",
        "trained_model=model.fit(X_train,Y_train,batch_size=28,epochs=3500,validation_data=(X_test,Y_test),callbacks=callbacks)"
      ]
    },
    {
      "cell_type": "code",
      "execution_count": null,
      "metadata": {
        "colab": {
          "base_uri": "https://localhost:8080/"
        },
        "id": "QCUIqSZOEC1E",
        "outputId": "86f6e2c5-e506-43db-b25d-ebbfdeeaf31a"
      },
      "outputs": [
        {
          "name": "stdout",
          "output_type": "stream",
          "text": [
            "350/350 [==============================] - 1s 1ms/step - loss: 0.4417 - accuracy: 0.7858\n",
            "Traning loss : {} and Training Accuracy : {} [0.44171595573425293, 0.7857781648635864]\n",
            "149/149 [==============================] - 0s 2ms/step - loss: 0.4679 - accuracy: 0.7712\n",
            "Testing loss : {} and Testing Accuracy : {} [0.46793460845947266, 0.771175742149353]\n"
          ]
        }
      ],
      "source": [
        "print(\"Traning loss : {} and Training Accuracy : {}\",model.evaluate(X_train,Y_train))\n",
        "print(\"Testing loss : {} and Testing Accuracy : {}\",model.evaluate(X_test,Y_test))"
      ]
    },
    {
      "cell_type": "code",
      "execution_count": null,
      "metadata": {
        "colab": {
          "base_uri": "https://localhost:8080/",
          "height": 265
        },
        "id": "ww0KEjtWEmCy",
        "outputId": "5854e05c-1de0-424d-cbe3-8ca7c5d6a75b"
      },
      "outputs": [
        {
          "data": {
            "image/png": "[encoded data removed]",
            "text/plain": [
              "<Figure size 432x288 with 1 Axes>"
            ]
          },
          "metadata": {},
          "output_type": "display_data"
        }
      ],
      "source": [
        "#visulization testing and training losss\n",
        "plt.plot(trained_model.history['loss'],label='Training loss')\n",
        "plt.plot(trained_model.history['val_loss'],label='Testing loss')\n",
        "plt.legend()\n",
        "plt.show()"
      ]
    },
    {
      "cell_type": "code",
      "execution_count": null,
      "metadata": {
        "colab": {
          "base_uri": "https://localhost:8080/",
          "height": 265
        },
        "id": "VS3V2QPEEvVh",
        "outputId": "d82241b0-9f65-48ed-8c17-618f22c641b5"
      },
      "outputs": [
        {
          "data": {
            "image/png": "[encoded data removed]",
            "text/plain": [
              "<Figure size 432x288 with 1 Axes>"
            ]
          },
          "metadata": {},
          "output_type": "display_data"
        }
      ],
      "source": [
        "#visulization testing and training accuracy\n",
        "plt.plot(trained_model.history['accuracy'],label='Training accuarcy')\n",
        "plt.plot(trained_model.history['val_accuracy'],label='Testing accuracy')\n",
        "plt.legend()\n",
        "plt.show()"
      ]
    },
    {
      "cell_type": "code",
      "execution_count": null,
      "metadata": {
        "colab": {
          "base_uri": "https://localhost:8080/"
        },
        "id": "_P_e2luRE42K",
        "outputId": "ef95fc9a-ef51-4bde-f77c-20149003d742"
      },
      "outputs": [
        {
          "data": {
            "text/plain": [
              "array([[0.27],\n",
              "       [0.29],\n",
              "       [0.25],\n",
              "       ...,\n",
              "       [0.87],\n",
              "       [0.72],\n",
              "       [0.34]], dtype=float32)"
            ]
          },
          "execution_count": 39,
          "metadata": {},
          "output_type": "execute_result"
        }
      ],
      "source": [
        "#testing the model with 30% data\n",
        "Y_pred=model.predict(X_test).round(2)\n",
        "Y_pred"
      ]
    },
    {
      "cell_type": "code",
      "execution_count": null,
      "metadata": {
        "id": "sYoqLHejFgjy"
      },
      "outputs": [],
      "source": [
        "Y_pred=np.where(Y_pred>=0.5,1,0)"
      ]
    },
    {
      "cell_type": "code",
      "execution_count": null,
      "metadata": {
        "colab": {
          "base_uri": "https://localhost:8080/"
        },
        "id": "RVjL490ZFl8m",
        "outputId": "67d4a66e-3c5f-449c-86dd-55e65e181517"
      },
      "outputs": [
        {
          "name": "stdout",
          "output_type": "stream",
          "text": [
            "              precision    recall  f1-score   support\n",
            "\n",
            "           0       0.75      0.81      0.78      2373\n",
            "           1       0.79      0.73      0.76      2373\n",
            "\n",
            "    accuracy                           0.77      4746\n",
            "   macro avg       0.77      0.77      0.77      4746\n",
            "weighted avg       0.77      0.77      0.77      4746\n",
            "\n",
            "[[1925  448]\n",
            " [ 647 1726]]\n"
          ]
        }
      ],
      "source": [
        "from sklearn.metrics import classification_report,confusion_matrix\n",
        "print(classification_report(Y_test,Y_pred))\n",
        "print(confusion_matrix(Y_test,Y_pred))"
      ]
    },
    {
      "cell_type": "code",
      "execution_count": null,
      "metadata": {
        "id": "II--iD9kFoRl"
      },
      "outputs": [],
      "source": [
        "#create object of sequential class\n",
        "#create a neutral network\n",
        "from keras import regularizers\n",
        "from keras.layers import Dropout\n",
        "model=tf.keras.models.Sequential([\n",
        "   tf.keras.layers.Dense(units=1000,activation='relu',input_shape=(X.shape[1],),kernel_regularizer=regularizers.l2(0.01)),Dropout(0.3), #30% neuron deactivation   #first hidden layer \n",
        "   tf.keras.layers.Dense(units=1000,activation='relu',kernel_regularizer=regularizers.l2(0.01)),Dropout(0.3), #second hiden layer=2\n",
        "   tf.keras.layers.Dense(units=1,activation='sigmoid',kernel_regularizer=regularizers.l2(0.01)) #output class\n",
        "])"
      ]
    },
    {
      "cell_type": "code",
      "execution_count": null,
      "metadata": {
        "id": "Pyme0bgMIffy"
      },
      "outputs": [],
      "source": [
        "#compile the model\n",
        "model.compile(optimizer='sgd',loss='binary_crossentropy',metrics=['accuracy'])"
      ]
    },
    {
      "cell_type": "code",
      "execution_count": null,
      "metadata": {
        "colab": {
          "background_save": true,
          "base_uri": "https://localhost:8080/"
        },
        "id": "bP8gOVpQInP-",
        "outputId": "6e39a49f-a15b-4a33-ae60-df2d0910ab49"
      },
      "outputs": [
        {
          "name": "stdout",
          "output_type": "stream",
          "text": [
            "Epoch 1/3500\n",
            "400/400 [==============================] - 8s 18ms/step - loss: 10.1111 - accuracy: 0.6686 - val_loss: 9.3370 - val_accuracy: 0.7046\n",
            "Epoch 2/3500\n",
            "400/400 [==============================] - 7s 18ms/step - loss: 8.6717 - accuracy: 0.7053 - val_loss: 8.0273 - val_accuracy: 0.7086\n",
            "Epoch 3/3500\n",
            "400/400 [==============================] - 7s 18ms/step - loss: 7.4689 - accuracy: 0.7072 - val_loss: 6.9233 - val_accuracy: 0.7162\n",
            "Epoch 4/3500\n",
            "400/400 [==============================] - 7s 18ms/step - loss: 6.4485 - accuracy: 0.7165 - val_loss: 5.9841 - val_accuracy: 0.7191\n",
            "Epoch 5/3500\n",
            "400/400 [==============================] - 9s 23ms/step - loss: 5.5798 - accuracy: 0.7236 - val_loss: 5.1839 - val_accuracy: 0.7214\n",
            "Epoch 6/3500\n",
            "400/400 [==============================] - 7s 17ms/step - loss: 4.8400 - accuracy: 0.7264 - val_loss: 4.5013 - val_accuracy: 0.7246\n",
            "Epoch 7/3500\n",
            "400/400 [==============================] - 7s 17ms/step - loss: 4.2088 - accuracy: 0.7332 - val_loss: 3.9190 - val_accuracy: 0.7311\n",
            "Epoch 8/3500\n",
            "400/400 [==============================] - 7s 17ms/step - loss: 3.6706 - accuracy: 0.7387 - val_loss: 3.4230 - val_accuracy: 0.7379\n",
            "Epoch 9/3500\n",
            "400/400 [==============================] - 7s 18ms/step - loss: 3.2123 - accuracy: 0.7411 - val_loss: 2.9991 - val_accuracy: 0.7410\n",
            "Epoch 10/3500\n",
            "400/400 [==============================] - 7s 17ms/step - loss: 2.8197 - accuracy: 0.7503 - val_loss: 2.6384 - val_accuracy: 0.7474\n",
            "Epoch 11/3500\n",
            "400/400 [==============================] - 7s 17ms/step - loss: 2.4857 - accuracy: 0.7519 - val_loss: 2.3311 - val_accuracy: 0.7484\n",
            "Epoch 12/3500\n",
            "400/400 [==============================] - 7s 18ms/step - loss: 2.2021 - accuracy: 0.7523 - val_loss: 2.0697 - val_accuracy: 0.7516\n",
            "Epoch 13/3500\n",
            "400/400 [==============================] - 7s 18ms/step - loss: 1.9604 - accuracy: 0.7548 - val_loss: 1.8474 - val_accuracy: 0.7505\n",
            "Epoch 14/3500\n",
            "400/400 [==============================] - 7s 17ms/step - loss: 1.7540 - accuracy: 0.7574 - val_loss: 1.6567 - val_accuracy: 0.7554\n",
            "Epoch 15/3500\n",
            "400/400 [==============================] - 7s 17ms/step - loss: 1.5792 - accuracy: 0.7581 - val_loss: 1.4953 - val_accuracy: 0.7552\n",
            "Epoch 16/3500\n",
            "400/400 [==============================] - 7s 17ms/step - loss: 1.4292 - accuracy: 0.7606 - val_loss: 1.3580 - val_accuracy: 0.7564\n",
            "Epoch 17/3500\n",
            "400/400 [==============================] - 7s 17ms/step - loss: 1.3036 - accuracy: 0.7599 - val_loss: 1.2401 - val_accuracy: 0.7590\n",
            "Epoch 18/3500\n",
            "400/400 [==============================] - 7s 18ms/step - loss: 1.1952 - accuracy: 0.7582 - val_loss: 1.1410 - val_accuracy: 0.7575\n",
            "Epoch 19/3500\n",
            "400/400 [==============================] - 7s 18ms/step - loss: 1.1033 - accuracy: 0.7592 - val_loss: 1.0561 - val_accuracy: 0.7583\n",
            "Epoch 20/3500\n",
            "400/400 [==============================] - 7s 18ms/step - loss: 1.0239 - accuracy: 0.7610 - val_loss: 0.9837 - val_accuracy: 0.7642\n",
            "Epoch 21/3500\n",
            "400/400 [==============================] - 7s 18ms/step - loss: 0.9557 - accuracy: 0.7591 - val_loss: 0.9212 - val_accuracy: 0.7609\n",
            "Epoch 22/3500\n",
            "400/400 [==============================] - 7s 18ms/step - loss: 0.8997 - accuracy: 0.7587 - val_loss: 0.8698 - val_accuracy: 0.7571\n",
            "Epoch 23/3500\n",
            "400/400 [==============================] - 7s 18ms/step - loss: 0.8507 - accuracy: 0.7598 - val_loss: 0.8243 - val_accuracy: 0.7640\n",
            "Epoch 24/3500\n",
            "400/400 [==============================] - 7s 17ms/step - loss: 0.8092 - accuracy: 0.7596 - val_loss: 0.7863 - val_accuracy: 0.7602\n",
            "Epoch 25/3500\n",
            "400/400 [==============================] - 7s 17ms/step - loss: 0.7737 - accuracy: 0.7613 - val_loss: 0.7539 - val_accuracy: 0.7630\n",
            "Epoch 26/3500\n",
            "400/400 [==============================] - 7s 18ms/step - loss: 0.7439 - accuracy: 0.7595 - val_loss: 0.7262 - val_accuracy: 0.7655\n",
            "Epoch 27/3500\n",
            "400/400 [==============================] - 7s 18ms/step - loss: 0.7190 - accuracy: 0.7594 - val_loss: 0.7024 - val_accuracy: 0.7636\n",
            "Epoch 28/3500\n",
            "400/400 [==============================] - 7s 18ms/step - loss: 0.6975 - accuracy: 0.7597 - val_loss: 0.6816 - val_accuracy: 0.7657\n",
            "Epoch 29/3500\n",
            "400/400 [==============================] - 7s 18ms/step - loss: 0.6778 - accuracy: 0.7600 - val_loss: 0.6649 - val_accuracy: 0.7640\n",
            "Epoch 30/3500\n",
            "400/400 [==============================] - 7s 18ms/step - loss: 0.6613 - accuracy: 0.7581 - val_loss: 0.6496 - val_accuracy: 0.7619\n",
            "Epoch 31/3500\n",
            "400/400 [==============================] - 7s 18ms/step - loss: 0.6474 - accuracy: 0.7608 - val_loss: 0.6379 - val_accuracy: 0.7598\n",
            "Epoch 32/3500\n",
            "400/400 [==============================] - 7s 18ms/step - loss: 0.6374 - accuracy: 0.7591 - val_loss: 0.6269 - val_accuracy: 0.7642\n",
            "Epoch 33/3500\n",
            "400/400 [==============================] - 7s 18ms/step - loss: 0.6262 - accuracy: 0.7604 - val_loss: 0.6176 - val_accuracy: 0.7625\n",
            "Epoch 34/3500\n",
            "400/400 [==============================] - 7s 18ms/step - loss: 0.6192 - accuracy: 0.7621 - val_loss: 0.6100 - val_accuracy: 0.7636\n",
            "Epoch 35/3500\n",
            "400/400 [==============================] - 7s 18ms/step - loss: 0.6113 - accuracy: 0.7594 - val_loss: 0.6040 - val_accuracy: 0.7714\n",
            "Epoch 36/3500\n",
            "400/400 [==============================] - 8s 19ms/step - loss: 0.6050 - accuracy: 0.7613 - val_loss: 0.5981 - val_accuracy: 0.7663\n",
            "Epoch 37/3500\n",
            "400/400 [==============================] - 7s 18ms/step - loss: 0.5999 - accuracy: 0.7600 - val_loss: 0.5931 - val_accuracy: 0.7659\n",
            "Epoch 38/3500\n",
            "400/400 [==============================] - 7s 18ms/step - loss: 0.5960 - accuracy: 0.7623 - val_loss: 0.5894 - val_accuracy: 0.7646\n",
            "Epoch 39/3500\n",
            "400/400 [==============================] - 7s 19ms/step - loss: 0.5909 - accuracy: 0.7614 - val_loss: 0.5856 - val_accuracy: 0.7657\n",
            "Epoch 40/3500\n",
            "400/400 [==============================] - 7s 19ms/step - loss: 0.5883 - accuracy: 0.7626 - val_loss: 0.5831 - val_accuracy: 0.7611\n",
            "Epoch 41/3500\n",
            "400/400 [==============================] - 8s 19ms/step - loss: 0.5855 - accuracy: 0.7623 - val_loss: 0.5804 - val_accuracy: 0.7651\n",
            "Epoch 42/3500\n",
            "400/400 [==============================] - 7s 18ms/step - loss: 0.5822 - accuracy: 0.7585 - val_loss: 0.5779 - val_accuracy: 0.7619\n",
            "Epoch 43/3500\n",
            "400/400 [==============================] - 7s 18ms/step - loss: 0.5815 - accuracy: 0.7613 - val_loss: 0.5761 - val_accuracy: 0.7665\n",
            "Epoch 44/3500\n",
            "400/400 [==============================] - 7s 18ms/step - loss: 0.5779 - accuracy: 0.7645 - val_loss: 0.5742 - val_accuracy: 0.7678\n",
            "Epoch 45/3500\n",
            "400/400 [==============================] - 7s 18ms/step - loss: 0.5757 - accuracy: 0.7634 - val_loss: 0.5724 - val_accuracy: 0.7653\n",
            "Epoch 46/3500\n",
            "400/400 [==============================] - 7s 19ms/step - loss: 0.5771 - accuracy: 0.7598 - val_loss: 0.5715 - val_accuracy: 0.7699\n",
            "Epoch 47/3500\n",
            "400/400 [==============================] - 7s 18ms/step - loss: 0.5751 - accuracy: 0.7629 - val_loss: 0.5700 - val_accuracy: 0.7646\n",
            "Epoch 48/3500\n",
            "400/400 [==============================] - 7s 19ms/step - loss: 0.5744 - accuracy: 0.7627 - val_loss: 0.5701 - val_accuracy: 0.7663\n",
            "Epoch 49/3500\n",
            "400/400 [==============================] - 7s 19ms/step - loss: 0.5732 - accuracy: 0.7614 - val_loss: 0.5692 - val_accuracy: 0.7661\n",
            "Epoch 50/3500\n",
            "400/400 [==============================] - 7s 19ms/step - loss: 0.5736 - accuracy: 0.7606 - val_loss: 0.5685 - val_accuracy: 0.7703\n",
            "Epoch 51/3500\n",
            "400/400 [==============================] - 7s 19ms/step - loss: 0.5729 - accuracy: 0.7624 - val_loss: 0.5679 - val_accuracy: 0.7657\n",
            "Epoch 52/3500\n",
            "400/400 [==============================] - 7s 19ms/step - loss: 0.5716 - accuracy: 0.7627 - val_loss: 0.5673 - val_accuracy: 0.7680\n",
            "Epoch 53/3500\n",
            "400/400 [==============================] - 7s 18ms/step - loss: 0.5710 - accuracy: 0.7630 - val_loss: 0.5677 - val_accuracy: 0.7680\n",
            "Epoch 54/3500\n",
            "400/400 [==============================] - 7s 18ms/step - loss: 0.5706 - accuracy: 0.7613 - val_loss: 0.5668 - val_accuracy: 0.7642\n",
            "Epoch 55/3500\n",
            "400/400 [==============================] - 7s 19ms/step - loss: 0.5706 - accuracy: 0.7606 - val_loss: 0.5657 - val_accuracy: 0.7676\n",
            "Epoch 56/3500\n",
            "400/400 [==============================] - 7s 18ms/step - loss: 0.5708 - accuracy: 0.7589 - val_loss: 0.5663 - val_accuracy: 0.7691\n",
            "Epoch 57/3500\n",
            "400/400 [==============================] - 7s 18ms/step - loss: 0.5697 - accuracy: 0.7606 - val_loss: 0.5658 - val_accuracy: 0.7653\n",
            "Epoch 58/3500\n",
            "400/400 [==============================] - 7s 18ms/step - loss: 0.5700 - accuracy: 0.7605 - val_loss: 0.5654 - val_accuracy: 0.7699\n",
            "Epoch 59/3500\n",
            "400/400 [==============================] - 7s 19ms/step - loss: 0.5694 - accuracy: 0.7600 - val_loss: 0.5657 - val_accuracy: 0.7646\n",
            "Epoch 60/3500\n",
            "400/400 [==============================] - 7s 19ms/step - loss: 0.5687 - accuracy: 0.7628 - val_loss: 0.5645 - val_accuracy: 0.7720\n",
            "Epoch 61/3500\n",
            "400/400 [==============================] - 7s 18ms/step - loss: 0.5693 - accuracy: 0.7620 - val_loss: 0.5649 - val_accuracy: 0.7695\n",
            "Epoch 62/3500\n",
            "400/400 [==============================] - 7s 18ms/step - loss: 0.5689 - accuracy: 0.7619 - val_loss: 0.5645 - val_accuracy: 0.7649\n",
            "Epoch 63/3500\n",
            "400/400 [==============================] - 7s 18ms/step - loss: 0.5689 - accuracy: 0.7626 - val_loss: 0.5646 - val_accuracy: 0.7644\n",
            "Epoch 64/3500\n",
            "400/400 [==============================] - 7s 19ms/step - loss: 0.5698 - accuracy: 0.7598 - val_loss: 0.5658 - val_accuracy: 0.7684\n",
            "Epoch 65/3500\n",
            "400/400 [==============================] - 7s 18ms/step - loss: 0.5680 - accuracy: 0.7628 - val_loss: 0.5635 - val_accuracy: 0.7705\n",
            "Epoch 66/3500\n",
            "400/400 [==============================] - 7s 18ms/step - loss: 0.5691 - accuracy: 0.7612 - val_loss: 0.5646 - val_accuracy: 0.7663\n",
            "Epoch 67/3500\n",
            "400/400 [==============================] - 7s 18ms/step - loss: 0.5682 - accuracy: 0.7614 - val_loss: 0.5652 - val_accuracy: 0.7668\n",
            "Epoch 68/3500\n",
            "400/400 [==============================] - 7s 18ms/step - loss: 0.5688 - accuracy: 0.7623 - val_loss: 0.5651 - val_accuracy: 0.7699\n",
            "Epoch 69/3500\n",
            "400/400 [==============================] - 7s 18ms/step - loss: 0.5680 - accuracy: 0.7634 - val_loss: 0.5644 - val_accuracy: 0.7701\n",
            "Epoch 70/3500\n",
            "400/400 [==============================] - 7s 18ms/step - loss: 0.5682 - accuracy: 0.7631 - val_loss: 0.5634 - val_accuracy: 0.7724\n",
            "Epoch 71/3500\n",
            "400/400 [==============================] - 7s 18ms/step - loss: 0.5687 - accuracy: 0.7607 - val_loss: 0.5644 - val_accuracy: 0.7701\n",
            "Epoch 72/3500\n",
            "400/400 [==============================] - 7s 18ms/step - loss: 0.5685 - accuracy: 0.7606 - val_loss: 0.5638 - val_accuracy: 0.7684\n",
            "Epoch 73/3500\n",
            "400/400 [==============================] - 7s 18ms/step - loss: 0.5681 - accuracy: 0.7636 - val_loss: 0.5632 - val_accuracy: 0.7684\n",
            "Epoch 74/3500\n",
            "400/400 [==============================] - 7s 18ms/step - loss: 0.5679 - accuracy: 0.7631 - val_loss: 0.5643 - val_accuracy: 0.7636\n",
            "Epoch 75/3500\n",
            "400/400 [==============================] - 7s 18ms/step - loss: 0.5679 - accuracy: 0.7615 - val_loss: 0.5644 - val_accuracy: 0.7674\n",
            "Epoch 76/3500\n",
            "400/400 [==============================] - 7s 19ms/step - loss: 0.5681 - accuracy: 0.7642 - val_loss: 0.5645 - val_accuracy: 0.7649\n",
            "Epoch 77/3500\n",
            "400/400 [==============================] - 7s 18ms/step - loss: 0.5680 - accuracy: 0.7601 - val_loss: 0.5633 - val_accuracy: 0.7678\n",
            "Epoch 78/3500\n",
            "400/400 [==============================] - 8s 19ms/step - loss: 0.5667 - accuracy: 0.7648 - val_loss: 0.5641 - val_accuracy: 0.7716\n",
            "Epoch 79/3500\n",
            "400/400 [==============================] - 8s 19ms/step - loss: 0.5685 - accuracy: 0.7601 - val_loss: 0.5636 - val_accuracy: 0.7684\n",
            "Epoch 80/3500\n",
            "400/400 [==============================] - 8s 19ms/step - loss: 0.5683 - accuracy: 0.7613 - val_loss: 0.5630 - val_accuracy: 0.7678\n",
            "Epoch 81/3500\n",
            "400/400 [==============================] - 7s 19ms/step - loss: 0.5675 - accuracy: 0.7625 - val_loss: 0.5635 - val_accuracy: 0.7712\n",
            "Epoch 82/3500\n",
            "400/400 [==============================] - 8s 19ms/step - loss: 0.5678 - accuracy: 0.7615 - val_loss: 0.5643 - val_accuracy: 0.7642\n",
            "Epoch 83/3500\n",
            "400/400 [==============================] - 7s 18ms/step - loss: 0.5682 - accuracy: 0.7606 - val_loss: 0.5634 - val_accuracy: 0.7720\n",
            "Epoch 84/3500\n",
            "400/400 [==============================] - 7s 19ms/step - loss: 0.5682 - accuracy: 0.7634 - val_loss: 0.5643 - val_accuracy: 0.7657\n",
            "Epoch 85/3500\n",
            "400/400 [==============================] - 7s 18ms/step - loss: 0.5667 - accuracy: 0.7638 - val_loss: 0.5638 - val_accuracy: 0.7665\n",
            "Epoch 86/3500\n",
            "400/400 [==============================] - 8s 19ms/step - loss: 0.5678 - accuracy: 0.7623 - val_loss: 0.5641 - val_accuracy: 0.7644\n",
            "Epoch 87/3500\n",
            "400/400 [==============================] - 8s 19ms/step - loss: 0.5679 - accuracy: 0.7609 - val_loss: 0.5646 - val_accuracy: 0.7630\n",
            "Epoch 88/3500\n",
            "400/400 [==============================] - 7s 19ms/step - loss: 0.5674 - accuracy: 0.7640 - val_loss: 0.5640 - val_accuracy: 0.7714\n",
            "Epoch 89/3500\n",
            "400/400 [==============================] - 7s 19ms/step - loss: 0.5672 - accuracy: 0.7638 - val_loss: 0.5635 - val_accuracy: 0.7689\n",
            "Epoch 90/3500\n",
            "400/400 [==============================] - 8s 19ms/step - loss: 0.5669 - accuracy: 0.7615 - val_loss: 0.5632 - val_accuracy: 0.7729\n",
            "Epoch 91/3500\n",
            "400/400 [==============================] - 8s 19ms/step - loss: 0.5690 - accuracy: 0.7611 - val_loss: 0.5639 - val_accuracy: 0.7682\n",
            "Epoch 92/3500\n",
            "400/400 [==============================] - 8s 19ms/step - loss: 0.5680 - accuracy: 0.7620 - val_loss: 0.5641 - val_accuracy: 0.7661\n",
            "Epoch 93/3500\n",
            "400/400 [==============================] - 7s 18ms/step - loss: 0.5672 - accuracy: 0.7611 - val_loss: 0.5647 - val_accuracy: 0.7680\n",
            "Epoch 94/3500\n",
            "400/400 [==============================] - 7s 18ms/step - loss: 0.5681 - accuracy: 0.7628 - val_loss: 0.5649 - val_accuracy: 0.7649\n",
            "Epoch 95/3500\n",
            "400/400 [==============================] - 7s 19ms/step - loss: 0.5678 - accuracy: 0.7625 - val_loss: 0.5640 - val_accuracy: 0.7714\n",
            "Epoch 96/3500\n",
            "400/400 [==============================] - 7s 18ms/step - loss: 0.5677 - accuracy: 0.7631 - val_loss: 0.5626 - val_accuracy: 0.7701\n",
            "Epoch 97/3500\n",
            "400/400 [==============================] - 7s 19ms/step - loss: 0.5678 - accuracy: 0.7621 - val_loss: 0.5638 - val_accuracy: 0.7689\n",
            "Epoch 98/3500\n",
            "400/400 [==============================] - 7s 18ms/step - loss: 0.5662 - accuracy: 0.7621 - val_loss: 0.5648 - val_accuracy: 0.7627\n",
            "Epoch 99/3500\n",
            "400/400 [==============================] - 7s 18ms/step - loss: 0.5683 - accuracy: 0.7606 - val_loss: 0.5635 - val_accuracy: 0.7693\n",
            "Epoch 100/3500\n",
            "400/400 [==============================] - 7s 18ms/step - loss: 0.5678 - accuracy: 0.7648 - val_loss: 0.5637 - val_accuracy: 0.7644\n",
            "Epoch 101/3500\n",
            "400/400 [==============================] - 7s 18ms/step - loss: 0.5680 - accuracy: 0.7640 - val_loss: 0.5640 - val_accuracy: 0.7691\n",
            "Epoch 102/3500\n",
            "400/400 [==============================] - 7s 18ms/step - loss: 0.5666 - accuracy: 0.7624 - val_loss: 0.5642 - val_accuracy: 0.7682\n",
            "Epoch 103/3500\n",
            "400/400 [==============================] - 7s 18ms/step - loss: 0.5676 - accuracy: 0.7612 - val_loss: 0.5646 - val_accuracy: 0.7710\n",
            "Epoch 104/3500\n",
            "400/400 [==============================] - 7s 18ms/step - loss: 0.5680 - accuracy: 0.7631 - val_loss: 0.5636 - val_accuracy: 0.7701\n",
            "Epoch 105/3500\n",
            "400/400 [==============================] - 7s 18ms/step - loss: 0.5672 - accuracy: 0.7622 - val_loss: 0.5646 - val_accuracy: 0.7680\n",
            "Epoch 106/3500\n",
            "400/400 [==============================] - 7s 19ms/step - loss: 0.5667 - accuracy: 0.7642 - val_loss: 0.5644 - val_accuracy: 0.7684\n",
            "Epoch 107/3500\n",
            "400/400 [==============================] - 7s 19ms/step - loss: 0.5676 - accuracy: 0.7638 - val_loss: 0.5638 - val_accuracy: 0.7649\n",
            "Epoch 108/3500\n",
            "400/400 [==============================] - 7s 19ms/step - loss: 0.5667 - accuracy: 0.7635 - val_loss: 0.5630 - val_accuracy: 0.7668\n",
            "Epoch 109/3500\n",
            "400/400 [==============================] - 7s 18ms/step - loss: 0.5677 - accuracy: 0.7631 - val_loss: 0.5636 - val_accuracy: 0.7678\n",
            "Epoch 110/3500\n",
            "400/400 [==============================] - 7s 19ms/step - loss: 0.5670 - accuracy: 0.7635 - val_loss: 0.5636 - val_accuracy: 0.7632\n",
            "Epoch 111/3500\n",
            "400/400 [==============================] - 7s 18ms/step - loss: 0.5675 - accuracy: 0.7629 - val_loss: 0.5633 - val_accuracy: 0.7661\n",
            "Epoch 112/3500\n",
            "400/400 [==============================] - 7s 18ms/step - loss: 0.5677 - accuracy: 0.7649 - val_loss: 0.5630 - val_accuracy: 0.7703\n",
            "Epoch 113/3500\n",
            "400/400 [==============================] - 7s 19ms/step - loss: 0.5673 - accuracy: 0.7640 - val_loss: 0.5633 - val_accuracy: 0.7710\n",
            "Epoch 114/3500\n",
            "400/400 [==============================] - 7s 18ms/step - loss: 0.5683 - accuracy: 0.7615 - val_loss: 0.5638 - val_accuracy: 0.7676\n",
            "Epoch 115/3500\n",
            "400/400 [==============================] - 7s 18ms/step - loss: 0.5670 - accuracy: 0.7659 - val_loss: 0.5636 - val_accuracy: 0.7693\n",
            "Epoch 116/3500\n",
            "400/400 [==============================] - 7s 18ms/step - loss: 0.5666 - accuracy: 0.7624 - val_loss: 0.5644 - val_accuracy: 0.7703\n",
            "Epoch 116: early stopping\n"
          ]
        }
      ],
      "source": [
        "#train the model\n",
        "trained_model=model.fit(X_train,Y_train,batch_size=28,epochs=3500,validation_data=(X_test,Y_test),callbacks=callbacks)"
      ]
    },
    {
      "cell_type": "code",
      "execution_count": null,
      "metadata": {
        "colab": {
          "background_save": true
        },
        "id": "18j9TMTuIrw2",
        "outputId": "b8fcb4d5-cc44-4fe6-e8a3-bcfe9cd8f68b"
      },
      "outputs": [
        {
          "data": {
            "image/png": "[encoded data removed]",
            "text/plain": [
              "<Figure size 432x288 with 1 Axes>"
            ]
          },
          "metadata": {},
          "output_type": "display_data"
        }
      ],
      "source": [
        "#visulization testing and training losss\n",
        "plt.plot(trained_model.history['loss'],label='Training loss')\n",
        "plt.plot(trained_model.history['val_loss'],label='Testing loss')\n",
        "plt.legend()\n",
        "plt.show()"
      ]
    },
    {
      "cell_type": "code",
      "execution_count": null,
      "metadata": {
        "colab": {
          "background_save": true
        },
        "id": "s50BAPQJJFqP",
        "outputId": "77709c32-2a48-4f17-ca59-d0e8278eb731"
      },
      "outputs": [
        {
          "data": {
            "image/png": "[encoded data removed]",
            "text/plain": [
              "<Figure size 432x288 with 1 Axes>"
            ]
          },
          "metadata": {},
          "output_type": "display_data"
        }
      ],
      "source": [
        "#visulization testing and training accuracy\n",
        "plt.plot(trained_model.history['accuracy'],label='Training accuarcy')\n",
        "plt.plot(trained_model.history['val_accuracy'],label='Testing accuracy')\n",
        "plt.legend()\n",
        "plt.show()"
      ]
    },
    {
      "cell_type": "code",
      "execution_count": null,
      "metadata": {
        "colab": {
          "background_save": true
        },
        "id": "MYrdJMHPJbZB",
        "outputId": "8227f0ba-26d9-4cde-b25f-5626f814ceb2"
      },
      "outputs": [
        {
          "data": {
            "text/plain": [
              "array([[0.19],\n",
              "       [0.4 ],\n",
              "       [0.23],\n",
              "       ...,\n",
              "       [0.78],\n",
              "       [0.55],\n",
              "       [0.42]], dtype=float32)"
            ]
          },
          "execution_count": null,
          "metadata": {},
          "output_type": "execute_result"
        }
      ],
      "source": [
        "#testing the model with 30% data\n",
        "Y_pred=model.predict(X_test).round(2)\n",
        "Y_pred"
      ]
    },
    {
      "cell_type": "code",
      "execution_count": null,
      "metadata": {
        "colab": {
          "background_save": true
        },
        "id": "fCf8vXMnJiGa"
      },
      "outputs": [],
      "source": [
        "Y_pred=np.where(Y_pred>=0.5,1,0)"
      ]
    },
    {
      "cell_type": "code",
      "execution_count": null,
      "metadata": {
        "colab": {
          "background_save": true
        },
        "id": "BstYVdxOJnvk",
        "outputId": "820f65ab-3069-47c0-bf84-7adcc6a389c9"
      },
      "outputs": [
        {
          "name": "stdout",
          "output_type": "stream",
          "text": [
            "              precision    recall  f1-score   support\n",
            "\n",
            "           0       0.77      0.77      0.77      2373\n",
            "           1       0.77      0.77      0.77      2373\n",
            "\n",
            "    accuracy                           0.77      4746\n",
            "   macro avg       0.77      0.77      0.77      4746\n",
            "weighted avg       0.77      0.77      0.77      4746\n",
            "\n",
            "[[1829  544]\n",
            " [ 556 1817]]\n"
          ]
        }
      ],
      "source": [
        "from sklearn.metrics import classification_report,confusion_matrix\n",
        "print(classification_report(Y_test,Y_pred))\n",
        "print(confusion_matrix(Y_test,Y_pred))"
      ]
    },
    {
      "cell_type": "code",
      "execution_count": null,
      "metadata": {
        "colab": {
          "background_save": true
        },
        "id": "MBZTqsxcJr8o"
      },
      "outputs": [],
      "source": [
        ""
      ]
    }
  ],
  "metadata": {
    "colab": {
      "collapsed_sections": [],
      "name": "DL on Churn_Modelling.ipynb",
      "provenance": [],
      "include_colab_link": true
    },
    "kernelspec": {
      "display_name": "Python 3",
      "name": "python3"
    },
    "language_info": {
      "name": "python"
    }
  },
  "nbformat": 4,
  "nbformat_minor": 0
}